{
 "cells": [
  {
   "cell_type": "code",
   "execution_count": 3,
   "metadata": {},
   "outputs": [
    {
     "name": "stderr",
     "output_type": "stream",
     "text": [
      "/local/xi/anaconda3/lib/python3.7/site-packages/statsmodels/tools/_testing.py:19: FutureWarning: pandas.util.testing is deprecated. Use the functions in the public API at pandas.testing instead.\n",
      "  import pandas.util.testing as tm\n"
     ]
    }
   ],
   "source": [
    "import numpy as np\n",
    "import math\n",
    "import pandas as pd\n",
    "import hashlib, random\n",
    "from sklearn.mixture import GaussianMixture\n",
    "import copy\n",
    "import itertools\n",
    "import matplotlib.pyplot as plt\n",
    "from collections import defaultdict\n",
    "import seaborn as sns\n",
    "import jsonpickle\n",
    "from random import shuffle\n",
    "from collections import defaultdict\n",
    "import os, json\n",
    "from datetime import datetime\n",
    "import matplotlib.ticker as mticker\n",
    "from matplotlib.ticker import MaxNLocator\n",
    "pd.options.display.float_format = '{:,.2f}'.format\n",
    "import matplotlib.pyplot as plt\n",
    "from matplotlib.patches import Rectangle\n",
    "import random, json\n",
    "from tqdm import trange, tqdm\n",
    "from operator import itemgetter\n",
    "from analyzer import *\n",
    "import query_gen\n",
    "\n",
    "sns.set(style='ticks', palette='coolwarm') #this overwrites matplotlib setting so make it run first \n",
    "\n",
    "# def set_font():\n",
    "import matplotlib\n",
    "# http://ishxiao.com/blog/python/2017/07/23/how-to-change-the-font-size-on-a-matplotlib-plot.html\n",
    "\n",
    "font = {'weight' : 'bold',\n",
    "#         'size'   : 20,\n",
    "       'family': 'Linux Libertine O'}\n",
    "matplotlib.rc('font', **font)"
   ]
  },
  {
   "cell_type": "code",
   "execution_count": 4,
   "metadata": {},
   "outputs": [],
   "source": [
    "def analyze_ratio(results):\n",
    "    cnt_mean_ratios = {}\n",
    "    sum_mean_ratios = {}\n",
    "    cnt_median_ratios = {}\n",
    "    sum_median_ratios = {}\n",
    "    cnt_ratios = {}\n",
    "    sum_ratios = {}\n",
    "    gt = results['GT']\n",
    "    for name, result in results.items():\n",
    "        if name == 'GT':\n",
    "            continue\n",
    "#         print(name)\n",
    "#         print(gt)\n",
    "#         print(result)\n",
    "        cnt_ratio = [float(b[0])/float(g[0]) for b, g in zip(result, gt)]\n",
    "        cnt_mean_ratios[name] = np.mean(cnt_ratio)\n",
    "        cnt_median_ratios[name] = np.median(cnt_ratio)\n",
    "#         print(pd.DataFrame(cnt_ratio).describe())\n",
    "        sum_ratio = [float(b[1])/float(g[1]) for b, g in zip(result, gt)]\n",
    "        sum_mean_ratios[name] = np.mean(sum_ratio)\n",
    "        sum_median_ratios[name] = np.median(sum_ratio)\n",
    "        sum_ratios[name] = sum_ratio\n",
    "        cnt_ratios[name] = cnt_ratio\n",
    "    return cnt_ratios, sum_ratios, cnt_mean_ratios, cnt_median_ratios, sum_mean_ratios, sum_median_ratios\n",
    "\n",
    "def plot_columns(mean, median, ylabel='Bound/GroundTruth Ratio', \n",
    "                 xlabel='Mean and Median', bar_labels=['Mean Ratio', 'Median Ratio'],\n",
    "                log_scale = True, yrange= None):\n",
    "    patterns = [ \"/\" , \"\\\\\" , \"|\" , \"-\" , \"+\" , \"x\", \"o\", \"O\", \".\", \"*\" ]\n",
    "    baselines = mean.keys()\n",
    "#     print(baselines)\n",
    "    if yrange is None:\n",
    "        yrange = [0, max(max(mean.values()), max(median.values())) + 1]\n",
    "    fig, ax = plt.subplots(1,1,figsize=(18,8))\n",
    "    \n",
    "    xfont = {'weight' : 'bold',\n",
    "            'size'   : 22}\n",
    "\n",
    "    width = 0.3\n",
    "    \n",
    "    mean_bar = [perf for perf in mean.values()]\n",
    "    median_bar = [perf for perf in median.values()]\n",
    "\n",
    "    r0 = np.arange(len(mean_bar))\n",
    "    r1 = [x - 0.15 for x in r0]\n",
    "    r2 = [x + width for x in r1]\n",
    "#     print(mean_bar, median_bar)\n",
    "    ax.bar(r1, mean_bar, width, edgecolor='black', label=bar_labels[0], hatch=patterns[0])\n",
    "    ax.bar(r2, median_bar, width, edgecolor='black', label=bar_labels[1], hatch=patterns[1])\n",
    "    ax.set_xticks(np.arange(len(baselines)))\n",
    "    ax.set_xticklabels(baselines, fontsize='x-large')\n",
    "    \n",
    "    ax.hlines(1.0, -0.5, len(baselines)-0.5, linestyle='--', color='gray', linewidth=4, label='Ground Truth')\n",
    "    \n",
    "    ax.set_ylabel(ylabel, fontdict = xfont)\n",
    "    \n",
    "    ax.set_ylim(yrange)\n",
    "    \n",
    "    if log_scale:\n",
    "        ax.set_yscale('log')\n",
    "        \n",
    "    ax.legend()\n",
    "    \n",
    "#     matplotlib.pyplot.sca(ax)\n",
    "    print(yrange)\n",
    "\n",
    "    plt.legend(fontsize=20, loc='upper left')\n",
    "    ax.set_xlabel(xlabel, fontdict = xfont)\n",
    "    fig.tight_layout()\n",
    "    plt.show()\n",
    "\n",
    "    \n",
    "# https://seaborn.pydata.org/tutorial/color_palettes.html\n",
    "def plot_box(cnt_ratios, sum_ratios, ylabel='Bound/GroundTruth Ratio', xlabel='Mean and Median', bar_labels=['COUNT(*)', 'SUM(Light)']):\n",
    "    patterns = [ \"/\" , \"\\\\\" , \"|\" , \"-\" , \"+\" , \"x\", \"o\", \"O\", \".\", \"*\" ]\n",
    "    baselines = cnt_ratios.keys()\n",
    "#     print(max([max(r) for r in cnt_ratios.values()]), max(cnt_ratios.values()))\n",
    "#     yrange = [0, max(max([max(r) for r in cnt_ratios.values()]), max([max(r) for r in sum_ratios.values()])) + 1]\n",
    "    fig, ax = plt.subplots(1,1,figsize=(18,8))\n",
    "    xfont = {'weight' : 'bold',\n",
    "            'size'   : 22}\n",
    "\n",
    "    width = 0.5\n",
    "    \n",
    "    cnt_box = [perf for perf in cnt_ratios.values()]\n",
    "    sum_box = [perf for perf in sum_ratios.values()]\n",
    "\n",
    "    r0 = np.arange(len(cnt_ratios))\n",
    "    r1 = [x - 0.15 for x in r0]\n",
    "    r2 = [x + width for x in r1]\n",
    "#     print(mean_bar, median_bar)\n",
    "    ax.boxplot(cnt_box, positions = r1, showfliers=False)\n",
    "    ax.boxplot(sum_box, positions = r2, showfliers=False)\n",
    "    ax.set_xticks(np.arange(len(baselines)+1))\n",
    "    ax.set_xticklabels(baselines, fontsize='x-large')\n",
    "\n",
    "    ax.hlines(1.0, -1, len(baselines)+1.5, linestyle='--', color='gray', linewidth=2, label='Ground Truth')\n",
    "\n",
    "    ax.set_ylabel(ylabel, fontdict = xfont)\n",
    "    ax.set_xlim([-1, len(baselines)+1])\n",
    "#     ax.set_ylim(yrange)\n",
    "#         ax.set_yscale(\"log\")\n",
    "\n",
    "    ax.legend()\n",
    "\n",
    "    #     matplotlib.pyplot.sca(ax)\n",
    "\n",
    "#         plt.legend(fontsize=20, loc='upper left')\n",
    "#     ax.set_xlabel(xlabel, fontdict = xfont)\n",
    "    fig.tight_layout()\n",
    "    plt.show()"
   ]
  },
  {
   "cell_type": "code",
   "execution_count": 5,
   "metadata": {},
   "outputs": [],
   "source": [
    "\n",
    "\n",
    "def restore_obj(path):\n",
    "    try:\n",
    "        with open(path) as f:\n",
    "            s = f.read()\n",
    "            data = jsonpickle.decode(s, keys = True)\n",
    "            print(\"Loaded %s\" % path)\n",
    "            return data\n",
    "    except Exception as e:\n",
    "        print(\"failed to restore\", path, e)\n",
    "        return None\n",
    "\n",
    "def load_and_merge(config):\n",
    "    # load all the files and merge them together because we have different files representing different partition type.\n",
    "    baseline_perf = defaultdict(dict)\n",
    "    queries = {}\n",
    "#     print(config)\n",
    "    for name, path in config.items():\n",
    "        path = '/local/xi/VarAcc/src/cache/'+path\n",
    "        if 'json' in path:\n",
    "            data = json.load(open(path))\n",
    "        else:\n",
    "            data = restore_obj(path)\n",
    "        if 'GT' in name:\n",
    "            queries[name[-1]] = data\n",
    "        else:\n",
    "            k = name.split('-')[0]\n",
    "            for base, perf in data.items():\n",
    "                baseline_perf[k][base] = perf\n",
    "    return queries, baseline_perf\n"
   ]
  },
  {
   "cell_type": "code",
   "execution_count": 6,
   "metadata": {},
   "outputs": [
    {
     "name": "stdout",
     "output_type": "stream",
     "text": [
      "vulture\n"
     ]
    }
   ],
   "source": [
    "!hostname"
   ]
  },
  {
   "cell_type": "code",
   "execution_count": 9,
   "metadata": {},
   "outputs": [
    {
     "name": "stdout",
     "output_type": "stream",
     "text": [
      "{'random': {'intel': 'taxi-verdict-intel.json', 'insta': 'taxi-verdict-insta.json', 'taxi': 'taxi-verdict-taxi.json'}}\n"
     ]
    }
   ],
   "source": [
    "ds_name = \"Taxi\"\n",
    "\n",
    "n_queries = {'random': 1000}\n",
    "     \n",
    "srs=[0.005]\n",
    "\n",
    "nds = [1,2,3,4,5]\n",
    "\n",
    "baselines= [\"KD-PASS\"]\n",
    "bp={}\n",
    "\n",
    "result_paths={\n",
    "'intel' : 'taxi-verdict-intel.json',\n",
    "'insta' : 'taxi-verdict-insta.json',\n",
    "'taxi' : 'taxi-verdict-taxi.json',\n",
    "}\n",
    "# Taxi3D-MedianPartitioner-AQP++-5-1024-0.005-1000-random.json\n",
    "name_temp = \"{nd}-{alias}\"\n",
    "\n",
    "baselines= [\"intel\", 'insta', 'taxi']\n",
    "vconfig={}\n",
    "for workload, n_query in n_queries.items():\n",
    "    workload_config={}\n",
    "    for nd in nds:\n",
    "        for alias in baselines:\n",
    "#             alias=baseline['alias']\n",
    "\n",
    "            baseline = alias\n",
    "            baseline_path = result_paths[baseline]\n",
    "            workload_config[baseline] = baseline_path\n",
    "    vconfig[workload]=workload_config\n",
    "\n",
    "print(vconfig)\n",
    "    \n",
    "queries, bp_verdict = load_and_merge(vconfig['random'])\n",
    "\n",
    "\n",
    "# random_analyzed = defaultdict(dict)\n",
    "# for k in bp.keys():\n",
    "#     # SUM query only\n",
    "#     _, RE_results, _ = RelativeError(queries[k], bp_pass[k]).analyze()\n",
    "#     random_analyzed[k]={\"Relative Error\": RE_results\n",
    "                        \n",
    "#                        }\n",
    "\n",
    "# taxi_nd={}\n",
    "# taxi_nd['Random Queries']=random_analyzed\n"
   ]
  },
  {
   "cell_type": "code",
   "execution_count": 12,
   "metadata": {},
   "outputs": [
    {
     "name": "stdout",
     "output_type": "stream",
     "text": [
      "0.9072935510339123\n"
     ]
    }
   ],
   "source": [
    "print(np.percentile(bp_verdict['intel']['intel'], 50))"
   ]
  },
  {
   "cell_type": "code",
   "execution_count": 13,
   "metadata": {},
   "outputs": [
    {
     "name": "stdout",
     "output_type": "stream",
     "text": [
      "0.9071375270105285\n"
     ]
    }
   ],
   "source": [
    "print(np.percentile(bp_verdict['insta']['insta'], 50))"
   ]
  },
  {
   "cell_type": "code",
   "execution_count": 14,
   "metadata": {},
   "outputs": [
    {
     "name": "stdout",
     "output_type": "stream",
     "text": [
      "0.9065338342816707\n"
     ]
    }
   ],
   "source": [
    "print(np.percentile(bp_verdict['taxi']['taxi'], 50))"
   ]
  },
  {
   "cell_type": "code",
   "execution_count": null,
   "metadata": {},
   "outputs": [],
   "source": []
  }
 ],
 "metadata": {
  "kernelspec": {
   "display_name": "Python 3",
   "language": "python",
   "name": "python3"
  },
  "language_info": {
   "codemirror_mode": {
    "name": "ipython",
    "version": 3
   },
   "file_extension": ".py",
   "mimetype": "text/x-python",
   "name": "python",
   "nbconvert_exporter": "python",
   "pygments_lexer": "ipython3",
   "version": "3.7.4"
  }
 },
 "nbformat": 4,
 "nbformat_minor": 4
}
