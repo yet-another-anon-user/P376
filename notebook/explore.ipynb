{
 "cells": [
  {
   "cell_type": "code",
   "execution_count": 1,
   "metadata": {},
   "outputs": [
    {
     "name": "stderr",
     "output_type": "stream",
     "text": [
      "/local/xi/anaconda3/lib/python3.7/site-packages/statsmodels/tools/_testing.py:19: FutureWarning: pandas.util.testing is deprecated. Use the functions in the public API at pandas.testing instead.\n",
      "  import pandas.util.testing as tm\n"
     ]
    }
   ],
   "source": [
    "import numpy as np\n",
    "import math\n",
    "import pandas as pd\n",
    "import hashlib, random\n",
    "from sklearn.mixture import GaussianMixture\n",
    "import copy\n",
    "import itertools\n",
    "import matplotlib.pyplot as plt\n",
    "import seaborn as sns\n",
    "from random import shuffle\n",
    "from collections import defaultdict\n",
    "import os, json\n",
    "from datetime import datetime\n",
    "import importlib\n",
    "import time\n",
    "pd.options.display.float_format = '{:,.2f}'.format\n",
    "import matplotlib.pyplot as plt\n",
    "from matplotlib.patches import Rectangle\n",
    "import random, json\n",
    "from tqdm import trange, tqdm\n",
    "from operator import itemgetter\n",
    "\n",
    "%matplotlib inline"
   ]
  },
  {
   "cell_type": "code",
   "execution_count": null,
   "metadata": {},
   "outputs": [],
   "source": [
    "def taxi_date_to_epoch(strdate):\n",
    "    return int(datetime.strptime(strdate, '%Y-%m-%d %H:%M:%S').strftime('%s'))\n",
    "\n",
    "def taxi_date_to_int(strdate):\n",
    "    return int(strdate.split(' ')[0].replace('-', ''))\n",
    "\n",
    "def taxi_time_to_int(strdate):\n",
    "    return int(strdate.split(' ')[1].replace(':', ''))\n",
    "\n",
    "taxi = pd.read_csv('../data/yellow_tripdata_2019-01.csv')\n",
    "taxi['pickup_date'] = taxi['tpep_pickup_datetime'].apply(taxi_date_to_int)\n",
    "taxi['pickup_time'] = taxi['tpep_pickup_datetime'].apply(taxi_time_to_int)\n",
    "taxi['dropoff_date'] = taxi['tpep_dropoff_datetime'].apply(taxi_date_to_int)\n",
    "taxi['dropoff_time'] = taxi['tpep_dropoff_datetime'].apply(taxi_time_to_int)\n",
    "taxi['pickup_datetime'] = taxi['tpep_pickup_datetime'].apply(taxi_date_to_epoch)\n",
    "taxi['dropoff_datetime'] = taxi['tpep_dropoff_datetime'].apply(taxi_date_to_epoch)\n"
   ]
  },
  {
   "cell_type": "code",
   "execution_count": null,
   "metadata": {},
   "outputs": [],
   "source": [
    "attrs = ['pickup_date', 'pickup_datetime', 'dropoff_datetime', 'pickup_time','dropoff_date', 'dropoff_time','PULocationID','DOLocationID', 'trip_distance']\n",
    "t6 = taxi[attrs]\n",
    "t6.describe()"
   ]
  },
  {
   "cell_type": "code",
   "execution_count": 6,
   "metadata": {},
   "outputs": [],
   "source": [
    "t6.to_csv('../data/taxi6.csv', index=False)\n"
   ]
  },
  {
   "cell_type": "code",
   "execution_count": null,
   "metadata": {},
   "outputs": [],
   "source": []
  }
 ],
 "metadata": {
  "kernelspec": {
   "display_name": "Python 3",
   "language": "python",
   "name": "python3"
  },
  "language_info": {
   "codemirror_mode": {
    "name": "ipython",
    "version": 3
   },
   "file_extension": ".py",
   "mimetype": "text/x-python",
   "name": "python",
   "nbconvert_exporter": "python",
   "pygments_lexer": "ipython3",
   "version": "3.7.4"
  }
 },
 "nbformat": 4,
 "nbformat_minor": 4
}
